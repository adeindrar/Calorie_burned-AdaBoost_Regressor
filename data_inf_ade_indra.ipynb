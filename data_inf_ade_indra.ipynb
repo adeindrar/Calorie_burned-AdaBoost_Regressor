{
 "cells": [
  {
   "cell_type": "markdown",
   "metadata": {},
   "source": [
    "==========================================================================================================================================================\n",
    "\n",
    "Program ini dibuat untuk memprediksi unseen data menggunakan model yang sudah dituning sebelumnya.\n",
    "\n",
    "=========================================================================================================================================================="
   ]
  },
  {
   "cell_type": "code",
   "execution_count": 1,
   "metadata": {},
   "outputs": [],
   "source": [
    "# Import libraries\n",
    "import pandas as pd\n",
    "import pickle"
   ]
  },
  {
   "cell_type": "markdown",
   "metadata": {},
   "source": [
    "Saya load model yang telah di save."
   ]
  },
  {
   "cell_type": "code",
   "execution_count": 2,
   "metadata": {},
   "outputs": [],
   "source": [
    "# Load files\n",
    "with open('pipe_ada.pkl', 'rb') as file_1:\n",
    "    pipe_ada = pickle.load(file_1)"
   ]
  },
  {
   "cell_type": "markdown",
   "metadata": {},
   "source": [
    "Mantap, selanjutnya kita load/create data inference untuk melakukan predict."
   ]
  },
  {
   "cell_type": "code",
   "execution_count": 3,
   "metadata": {},
   "outputs": [
    {
     "data": {
      "text/html": [
       "<div>\n",
       "<style scoped>\n",
       "    .dataframe tbody tr th:only-of-type {\n",
       "        vertical-align: middle;\n",
       "    }\n",
       "\n",
       "    .dataframe tbody tr th {\n",
       "        vertical-align: top;\n",
       "    }\n",
       "\n",
       "    .dataframe thead th {\n",
       "        text-align: right;\n",
       "    }\n",
       "</style>\n",
       "<table border=\"1\" class=\"dataframe\">\n",
       "  <thead>\n",
       "    <tr style=\"text-align: right;\">\n",
       "      <th></th>\n",
       "      <th>user_id</th>\n",
       "      <th>age</th>\n",
       "      <th>gender</th>\n",
       "      <th>height_(cm)</th>\n",
       "      <th>weight_(kg)</th>\n",
       "      <th>workout_type</th>\n",
       "      <th>workout_duration_(mins)</th>\n",
       "      <th>heart_rate_(bpm)</th>\n",
       "      <th>steps_taken</th>\n",
       "      <th>distance_(km)</th>\n",
       "      <th>workout_intensity</th>\n",
       "      <th>sleep_hours</th>\n",
       "      <th>water_intake_(liters)</th>\n",
       "      <th>daily_calories_intake</th>\n",
       "      <th>resting_heart_rate_(bpm)</th>\n",
       "      <th>vo2_max</th>\n",
       "      <th>body_fat_(%)</th>\n",
       "      <th>mood_before_workout</th>\n",
       "      <th>mood_after_workout</th>\n",
       "    </tr>\n",
       "  </thead>\n",
       "  <tbody>\n",
       "    <tr>\n",
       "      <th>0</th>\n",
       "      <td>5</td>\n",
       "      <td>27</td>\n",
       "      <td>Male</td>\n",
       "      <td>163</td>\n",
       "      <td>71</td>\n",
       "      <td>Cardio</td>\n",
       "      <td>65</td>\n",
       "      <td>112</td>\n",
       "      <td>8000</td>\n",
       "      <td>3.4</td>\n",
       "      <td>High</td>\n",
       "      <td>7.6</td>\n",
       "      <td>2</td>\n",
       "      <td>2781</td>\n",
       "      <td>65</td>\n",
       "      <td>40</td>\n",
       "      <td>29</td>\n",
       "      <td>Happy</td>\n",
       "      <td>Fatigued</td>\n",
       "    </tr>\n",
       "  </tbody>\n",
       "</table>\n",
       "</div>"
      ],
      "text/plain": [
       "   user_id  age gender  height_(cm)  weight_(kg) workout_type  \\\n",
       "0        5   27   Male          163           71       Cardio   \n",
       "\n",
       "  workout_duration_(mins) heart_rate_(bpm)  steps_taken  distance_(km)  \\\n",
       "0                      65              112         8000            3.4   \n",
       "\n",
       "  workout_intensity  sleep_hours  water_intake_(liters)  \\\n",
       "0              High          7.6                      2   \n",
       "\n",
       "   daily_calories_intake  resting_heart_rate_(bpm)  vo2_max  body_fat_(%)  \\\n",
       "0                   2781                        65       40            29   \n",
       "\n",
       "  mood_before_workout mood_after_workout  \n",
       "0               Happy           Fatigued  "
      ]
     },
     "execution_count": 3,
     "metadata": {},
     "output_type": "execute_result"
    }
   ],
   "source": [
    "# Create data inference\n",
    "df_inf = {'user_id': 5,\n",
    "          'age':27,\n",
    "          'gender':'Male',\n",
    "          'height_(cm)':163,\n",
    "          'weight_(kg)':71,\n",
    "          'workout_type':'Cardio',\n",
    "          'workout_duration_(mins)':'65',\n",
    "          'heart_rate_(bpm)':'112',\n",
    "          'steps_taken':8000,\n",
    "          'distance_(km)':3.4,\n",
    "          'workout_intensity':'High',\n",
    "          'sleep_hours':7.6,\n",
    "          'water_intake_(liters)':2,\n",
    "          'daily_calories_intake':2781,\n",
    "          'resting_heart_rate_(bpm)':65,\n",
    "          'vo2_max':40,\n",
    "          'body_fat_(%)':29,\n",
    "          'mood_before_workout':'Happy',\n",
    "          'mood_after_workout':'Fatigued'\n",
    "          }\n",
    "\n",
    "# Convert to Dataframe pandas\n",
    "df_inf = pd.DataFrame([df_inf])\n",
    "df_inf"
   ]
  },
  {
   "cell_type": "code",
   "execution_count": 4,
   "metadata": {},
   "outputs": [],
   "source": [
    "prediction = pipe_ada.predict(df_inf)"
   ]
  },
  {
   "cell_type": "code",
   "execution_count": 5,
   "metadata": {},
   "outputs": [
    {
     "name": "stdout",
     "output_type": "stream",
     "text": [
      "Hasil pembakaran anda adalah 557.44 kal\n"
     ]
    }
   ],
   "source": [
    "print(f\"Hasil pembakaran anda adalah {round(prediction[0],2)} kal\")"
   ]
  }
 ],
 "metadata": {
  "kernelspec": {
   "display_name": "base",
   "language": "python",
   "name": "python3"
  },
  "language_info": {
   "codemirror_mode": {
    "name": "ipython",
    "version": 3
   },
   "file_extension": ".py",
   "mimetype": "text/x-python",
   "name": "python",
   "nbconvert_exporter": "python",
   "pygments_lexer": "ipython3",
   "version": "3.9.21"
  }
 },
 "nbformat": 4,
 "nbformat_minor": 2
}
